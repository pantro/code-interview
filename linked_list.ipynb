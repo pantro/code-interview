{
 "cells": [
  {
   "cell_type": "markdown",
   "metadata": {},
   "source": [
    "# Linked list"
   ]
  },
  {
   "cell_type": "markdown",
   "metadata": {},
   "source": [
    "### 1. Creating a Linked List\n",
    "- Se va a realizar una clase que represente una lista enlazada que pueda adicionar elementos al final.\n",
    "- Aqui solo se van a ingresar datos al final de la lista."
   ]
  },
  {
   "cell_type": "code",
   "execution_count": 48,
   "metadata": {},
   "outputs": [],
   "source": [
    "class Node:\n",
    "\n",
    "    def __init__(self, value, node_next=None):\n",
    "        self.value = value\n",
    "        self.node_next = node_next\n",
    "\n",
    "    def print(self):\n",
    "        node_current = self\n",
    "        print(node_current.value)\n",
    "        while node_current.node_next != None:\n",
    "            node_current = node_current.node_next\n",
    "            print(node_current.value)\n",
    "    \n",
    "    def appendToTail (self, value:int):\n",
    "        node_end = Node(value)\n",
    "        node_current = self\n",
    "        while node_current.node_next != None:\n",
    "            node_current = node_current.node_next\n",
    "        node_current.node_next = node_end"
   ]
  },
  {
   "cell_type": "code",
   "execution_count": 49,
   "metadata": {},
   "outputs": [
    {
     "name": "stdout",
     "output_type": "stream",
     "text": [
      "7\n"
     ]
    }
   ],
   "source": [
    "linked_list_single = Node(7)\n",
    "linked_list_single.print()"
   ]
  },
  {
   "cell_type": "code",
   "execution_count": 50,
   "metadata": {},
   "outputs": [
    {
     "name": "stdout",
     "output_type": "stream",
     "text": [
      "7\n",
      "8\n",
      "9\n",
      "10\n"
     ]
    }
   ],
   "source": [
    "linked_list_single.appendToTail(8)\n",
    "linked_list_single.appendToTail(9)\n",
    "linked_list_single.appendToTail(10)\n",
    "linked_list_single.print()"
   ]
  },
  {
   "cell_type": "code",
   "execution_count": 51,
   "metadata": {},
   "outputs": [
    {
     "name": "stdout",
     "output_type": "stream",
     "text": [
      "8\n",
      "9\n",
      "10\n"
     ]
    }
   ],
   "source": [
    "# Imprimir desde el segundo nodo\n",
    "linked_list_single.node_next.print()"
   ]
  },
  {
   "cell_type": "code",
   "execution_count": 52,
   "metadata": {},
   "outputs": [
    {
     "name": "stdout",
     "output_type": "stream",
     "text": [
      "7\n",
      "8\n",
      "9\n",
      "10\n",
      "11\n"
     ]
    }
   ],
   "source": [
    "# Aumentar desde el segundo nodo\n",
    "linked_list_single.node_next.appendToTail(11)\n",
    "linked_list_single.print()"
   ]
  },
  {
   "cell_type": "markdown",
   "metadata": {},
   "source": [
    "### 2.  Deleting a Node from a Singly Linked List\n",
    "- Observaciones del problema\n",
    "    * La lista enlazada no puede tener numeros repetidos"
   ]
  },
  {
   "cell_type": "code",
   "execution_count": 74,
   "metadata": {},
   "outputs": [],
   "source": [
    "class Node:\n",
    "\n",
    "    def __init__(self, value, node_next=None):\n",
    "        self.value = value\n",
    "        self.node_next = node_next\n",
    "\n",
    "    def print(self):\n",
    "        node_current = self\n",
    "        print(node_current.value)\n",
    "        while node_current.node_next != None:\n",
    "            node_current = node_current.node_next\n",
    "            print(node_current.value)\n",
    "    \n",
    "    def appendToTail (self, value:int):\n",
    "        node_end = Node(value)\n",
    "        node_current = self\n",
    "        while node_current.node_next != None:\n",
    "            node_current = node_current.node_next\n",
    "        node_current.node_next = node_end\n",
    "\n",
    "    def deleteNode (self, value):\n",
    "        node_current = self\n",
    "        node_prev = None\n",
    "        while node_current.value != value:\n",
    "            # Para ver si existe un nodo siguiente\n",
    "            if node_current.node_next != None:\n",
    "                node_prev = node_current\n",
    "                node_current = node_current.node_next\n",
    "            else:\n",
    "                print(\"El elemento no esta en la lista enlazada\")\n",
    "                return\n",
    "        if node_prev == None:\n",
    "            self.value = node_current.node_next.value\n",
    "            self.node_next = node_current.node_next.node_next\n",
    "        else:\n",
    "            node_prev.node_next = node_current.node_next\n",
    "        del node_current"
   ]
  },
  {
   "cell_type": "code",
   "execution_count": 75,
   "metadata": {},
   "outputs": [
    {
     "name": "stdout",
     "output_type": "stream",
     "text": [
      "7\n",
      "8\n",
      "9\n",
      "10\n",
      "11\n"
     ]
    }
   ],
   "source": [
    "linked_list_single = Node(7)\n",
    "linked_list_single.appendToTail(8)\n",
    "linked_list_single.appendToTail(9)\n",
    "linked_list_single.appendToTail(10)\n",
    "linked_list_single.appendToTail(11)\n",
    "linked_list_single.print()"
   ]
  },
  {
   "cell_type": "code",
   "execution_count": 76,
   "metadata": {},
   "outputs": [
    {
     "name": "stdout",
     "output_type": "stream",
     "text": [
      "8\n",
      "9\n",
      "10\n",
      "11\n"
     ]
    }
   ],
   "source": [
    "# Eliminar el primer elemento\n",
    "linked_list_single.deleteNode(7)\n",
    "linked_list_single.print()"
   ]
  },
  {
   "cell_type": "code",
   "execution_count": 77,
   "metadata": {},
   "outputs": [
    {
     "name": "stdout",
     "output_type": "stream",
     "text": [
      "El elemento no esta en la lista enlazada\n",
      "8\n",
      "9\n",
      "10\n",
      "11\n"
     ]
    }
   ],
   "source": [
    "# Eliminar un elemento que no esta en la lista enlazada\n",
    "linked_list_single.deleteNode(20)\n",
    "linked_list_single.print()"
   ]
  }
 ],
 "metadata": {
  "kernelspec": {
   "display_name": "Python 3",
   "language": "python",
   "name": "python3"
  },
  "language_info": {
   "codemirror_mode": {
    "name": "ipython",
    "version": 3
   },
   "file_extension": ".py",
   "mimetype": "text/x-python",
   "name": "python",
   "nbconvert_exporter": "python",
   "pygments_lexer": "ipython3",
   "version": "3.10.12"
  }
 },
 "nbformat": 4,
 "nbformat_minor": 2
}
